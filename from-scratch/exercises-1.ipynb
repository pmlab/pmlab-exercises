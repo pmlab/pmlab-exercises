{
  "nbformat": 4,
  "nbformat_minor": 0,
  "metadata": {
    "colab": {
      "name": "exercises-lecture-02.ipynb",
      "version": "0.3.2",
      "provenance": []
    },
    "kernelspec": {
      "name": "python2",
      "display_name": "Python 2"
    }
  },
  "cells": [
    {
      "metadata": {
        "id": "2-_Dbxlmt-y3",
        "colab_type": "text"
      },
      "cell_type": "markdown",
      "source": [
        "# Exercises on Discovery\n",
        "\n",
        "These exercises are from the book \"A Primer on Process Mining\", by Diogo Ferreira.\n"
      ]
    },
    {
      "metadata": {
        "id": "KaSCGPNMi8ME",
        "colab_type": "code",
        "colab": {
          "base_uri": "https://localhost:8080/",
          "height": 388
        },
        "outputId": "79103e0e-fd8c-4d4d-d341-95e3e4c793a1"
      },
      "cell_type": "code",
      "source": [
        "# Exercises from \"A Primer on Process Mining\", by Diogo Ferreira\n",
        "\n",
        "# ==============================================================================\n",
        "# define the log\n",
        "\n",
        "f = \"\"\"1;a;u1;2016-04-09 17:36:47\n",
        "1;b;u3;2016-04-11 09:11:13\n",
        "1;d;u6;2016-04-12 10:00:12\n",
        "1;e;u7;2016-04-12 18:21:32\n",
        "1;f;u8;2016-04-13 13:27:41\n",
        "2;a;u2;2016-04-14 08:56:09\n",
        "2;b;u3;2016-04-14 09:36:02\n",
        "2;d;u5;2016-04-15 10:16:40\n",
        "1;g;u6;2016-04-18 19:14:14\n",
        "2;g;u6;2016-04-19 15:39:15\n",
        "1;h;u2;2016-04-19 16:48:16\n",
        "2;e;u7;2016-04-20 14:39:45\n",
        "2;f;u8;2016-04-22 09:16:16\n",
        "3;a;u2;2016-04-25 08:39:24\n",
        "2;h;u1;2016-04-26 12:19:46\n",
        "3;b;u4;2016-04-29 10:56:14\n",
        "3;c;u1;2016-04-30 15:41:22\"\"\"\n",
        "\n",
        "\n",
        "# ==============================================================================\n",
        "# load the log as dictionary\n",
        "log = []\n",
        "\n",
        "log = dict()\n",
        "\n",
        "for line in f.splitlines():\n",
        "    line = line.strip()\n",
        "    if len(line) == 0:\n",
        "        continue\n",
        "    parts = line.split(';')\n",
        "    caseid = parts[0]\n",
        "    task = parts[1]\n",
        "    user = parts[2]\n",
        "    timestamp = parts[3]\n",
        "    if caseid not in log:\n",
        "        log[caseid] = []\n",
        "    event = (task, user, timestamp)\n",
        "    log[caseid].append(event)\n",
        "\n",
        "# ==============================================================================\n",
        "# construct the dependency\n",
        "\n",
        "F = dict()\n",
        "for caseid in log:\n",
        "    for i in range(0, len(log[caseid])-1):\n",
        "      ai = log[caseid][i][0]\n",
        "        aj = log[caseid][i+1][0]\n",
        "        if ai not in F:\n",
        "            F[ai] = dict()\n",
        "        if aj not in F[ai]:\n",
        "            F[ai][aj] = 0\n",
        "        F[ai][aj] += 1\n",
        "\n",
        "#for ai in sorted(F.keys()):\n",
        "#    for aj in sorted(F[ai].keys()):\n",
        "#        print ai, '->', aj, ':', F[ai][aj]\n",
        "\n",
        "\n",
        "!apt-get -qq install -y graphviz libgraphviz-dev pkg-config && pip install pygraphviz;\n",
        "\n",
        "import pygraphviz as pgv\n",
        "from IPython.display import Image\n",
        "\n",
        "\n",
        "# ==============================================================================\n",
        "# generate the graphical output\n",
        "\n",
        "G = pgv.AGraph(strict=False, directed=True)\n",
        "\n",
        "G.graph_attr['rankdir'] = 'LR'\n",
        "G.node_attr['shape'] = 'box'\n",
        "\n",
        "for ai in F:\n",
        "    for aj in F[ai]:\n",
        "        G.add_edge(ai, aj, label=F[ai][aj])\n",
        "\n",
        "G.draw('graph.png', prog='dot')\n",
        "Image(filename=\"graph.png\")\n"
      ],
      "execution_count": 1,
      "outputs": [
        {
          "output_type": "stream",
          "text": [
            "Collecting pygraphviz\n",
            "  Using cached https://files.pythonhosted.org/packages/7e/b1/d6d849ddaf6f11036f9980d433f383d4c13d1ebcfc3cd09bc845bda7e433/pygraphviz-1.5.zip\n",
            "Building wheels for collected packages: pygraphviz\n",
            "  Running setup.py bdist_wheel for pygraphviz ... \u001b[?25l-\b \b\\\b \b|\b \b/\b \bdone\n",
            "\u001b[?25h  Stored in directory: /root/.cache/pip/wheels/65/54/69/1aee9e66ab19916293208d4c9de0d3898adebe6b2eeff6476b\n",
            "Successfully built pygraphviz\n",
            "Installing collected packages: pygraphviz\n",
            "Successfully installed pygraphviz-1.5\n"
          ],
          "name": "stdout"
        },
        {
          "output_type": "execute_result",
          "data": {
            "image/png": "[encoded data removed]",
            "text/plain": [
              "<IPython.core.display.Image object>"
            ]
          },
          "metadata": {
            "tags": []
          },
          "execution_count": 1
        }
      ]
    }
  ]
}